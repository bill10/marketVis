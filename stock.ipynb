{
 "cells": [
  {
   "cell_type": "code",
   "execution_count": 1,
   "metadata": {
    "collapsed": false
   },
   "outputs": [],
   "source": [
    "from bokeh.plotting import figure, output_server, show, cursession, push\n",
    "from bokeh.models import LinearAxis, Range1d\n",
    "from bokeh.models.widgets import TextInput,VBox\n",
    "from bokeh.io import gridplot, vplot, hplot\n",
    "from bokeh.document import Document\n",
    "from bokeh.session import Session\n",
    "from datetime import datetime\n",
    "import numpy as np\n",
    "import pandas as pd"
   ]
  },
  {
   "cell_type": "code",
   "execution_count": 2,
   "metadata": {
    "collapsed": false
   },
   "outputs": [],
   "source": [
    "marketActivity=pd.DataFrame(columns=['time','symbol','trades','volume'])\n",
    "for i in xrange(1,29):\n",
    "    f = \"counts-201004{:0>2}.KP.csv\".format(i)\n",
    "    date = f.split('.')[0].split('-')[1]\n",
    "    marketActivity=marketActivity.append(pd.read_csv(f,header=None,\n",
    "                   names=['time','symbol','trades','volume'],\n",
    "                   parse_dates=['time'], date_parser=lambda x: datetime.strptime(date+x,'%Y%m%d%H:%M:%S')))"
   ]
  },
  {
   "cell_type": "code",
   "execution_count": 3,
   "metadata": {
    "collapsed": false
   },
   "outputs": [],
   "source": [
    "aggregate=marketActivity.groupby('time').sum().reset_index()"
   ]
  },
  {
   "cell_type": "code",
   "execution_count": 12,
   "metadata": {
    "collapsed": false
   },
   "outputs": [
    {
     "name": "stdout",
     "output_type": "stream",
     "text": [
      "Using saved session configuration for http://localhost:5006/\n",
      "To override, pass 'load_from_config=False' to Session\n",
      "Using saved session configuration for http://localhost:5006/\n",
      "To override, pass 'load_from_config=False' to Session\n"
     ]
    }
   ],
   "source": [
    "output_server(\"Market Trades\")\n",
    "p = figure(x_axis_type = \"datetime\", y_axis_type=\"log\",\n",
    "           y_range=Range1d(aggregate['trades'].min(),aggregate['trades'].max()),\n",
    "           plot_width=900,plot_height=300)\n",
    "p.line(np.array(aggregate['time'], np.datetime64), aggregate['trades'], color='lightblue', legend='Trades')\n",
    "push();\n",
    "\n",
    "output_server(\"Market Volume\")\n",
    "p2 = figure(x_axis_type = \"datetime\", y_axis_type=\"log\",\n",
    "           y_range=Range1d(aggregate['volume'].min(),aggregate['volume'].max()),\n",
    "           plot_width=900,plot_height=300)\n",
    "p2.line(np.array(aggregate['time'], np.datetime64), aggregate['volume'], color='darkred', legend='Volume')\n",
    "push();"
   ]
  }
 ],
 "metadata": {
  "kernelspec": {
   "display_name": "Python 2",
   "language": "python",
   "name": "python2"
  },
  "language_info": {
   "codemirror_mode": {
    "name": "ipython",
    "version": 2
   },
   "file_extension": ".py",
   "mimetype": "text/x-python",
   "name": "python",
   "nbconvert_exporter": "python",
   "pygments_lexer": "ipython2",
   "version": "2.7.10"
  }
 },
 "nbformat": 4,
 "nbformat_minor": 0
}
